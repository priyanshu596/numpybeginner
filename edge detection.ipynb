{
 "cells": [
  {
   "cell_type": "markdown",
   "id": "1cd1d8e1-20da-43e1-a00f-80733b993138",
   "metadata": {},
   "source": [
    "# 1. Import Dependencies"
   ]
  },
  {
   "cell_type": "code",
   "execution_count": 3,
   "id": "045d2d90-9192-4410-9286-4992ab41f385",
   "metadata": {},
   "outputs": [],
   "source": [
    "# import opencv for computer vision stuff\n",
    "import cv2\n",
    "#import os for file paths\n",
    "import os"
   ]
  },
  {
   "cell_type": "code",
   "execution_count": null,
   "id": "40640599-b681-4ecc-afa6-99ba6e90866d",
   "metadata": {},
   "outputs": [],
   "source": []
  },
  {
   "cell_type": "markdown",
   "id": "a57fcc44-90a7-4f5f-914b-45d73aaef7b4",
   "metadata": {},
   "source": [
    "# 2. Load Image"
   ]
  },
  {
   "cell_type": "code",
   "execution_count": 4,
   "id": "9ab54491-6e11-4d8a-a735-c8b5f4a3ef07",
   "metadata": {},
   "outputs": [],
   "source": [
    "#import matplotlib for vizualization\n",
    "from matplotlib import pyplot as plt"
   ]
  },
  {
   "cell_type": "code",
   "execution_count": 5,
   "id": "339fe51a-d5f1-4679-beb3-4a6e00134582",
   "metadata": {},
   "outputs": [],
   "source": [
    "# define the file path to the image\n",
    "img_path= os.path.join('data','images','bike.jpg')"
   ]
  },
  {
   "cell_type": "code",
   "execution_count": 6,
   "id": "b9dc7a51-8192-4d22-92ae-ee17598d52a6",
   "metadata": {},
   "outputs": [],
   "source": [
    "#read the image\n",
    "img = cv2.imread(img_path)"
   ]
  },
  {
   "cell_type": "code",
   "execution_count": 7,
   "id": "4044c6e5-5fa3-4625-9678-d0f78018c744",
   "metadata": {},
   "outputs": [
    {
     "data": {
      "text/plain": [
       "(1792, 2688)"
      ]
     },
     "execution_count": 7,
     "metadata": {},
     "output_type": "execute_result"
    }
   ],
   "source": [
    "(int(img.shape[1]/2), int(img.shape[0]/2))"
   ]
  },
  {
   "cell_type": "code",
   "execution_count": 9,
   "id": "917d4009-cf11-4407-b62b-a45ceb049f41",
   "metadata": {},
   "outputs": [],
   "source": [
    "# Resize image\n",
    "resized_img = cv2.resize(img, (int(img.shape[1]/6), int(img.shape[0]/10)))\n",
    "\n",
    "# view image using opencv\n",
    "cv2.imshow('Frame View',resized_img)\n",
    "cv2.waitKey(0)\n",
    "cv2.destroyAllWindows()"
   ]
  },
  {
   "cell_type": "code",
   "execution_count": null,
   "id": "6d8f15a7-7a78-4b09-bd49-48f78ad8e5bc",
   "metadata": {},
   "outputs": [],
   "source": [
    "plt.imshow()"
   ]
  },
  {
   "cell_type": "code",
   "execution_count": null,
   "id": "e7a587d3-ff1b-455e-8def-66aa661c7faf",
   "metadata": {},
   "outputs": [],
   "source": []
  },
  {
   "cell_type": "markdown",
   "id": "2bb1df7a-16e5-455f-81b6-ee4095b5816a",
   "metadata": {},
   "source": [
    "# 3. Edge Detection"
   ]
  },
  {
   "cell_type": "code",
   "execution_count": 10,
   "id": "677fef84-0824-42be-82a1-fc58274c94a6",
   "metadata": {},
   "outputs": [],
   "source": [
    "# Apply canny\n",
    "gray = cv2.cvtColor(img,cv2.COLOR_BGR2GRAY)\n",
    "blur = cv2.GaussianBlur(gray, (5,5), 0)\n",
    "canny = cv2.Canny(blur, threshold1=210, threshold2=220)"
   ]
  },
  {
   "cell_type": "code",
   "execution_count": 11,
   "id": "9bd628ff-2029-46cb-bba0-a06b28312047",
   "metadata": {},
   "outputs": [],
   "source": [
    "# Resize image\n",
    "resized_img = cv2.resize(canny, (int(img.shape[1]/6), int(img.shape[0]/10)))\n",
    "\n",
    "# view image using opencv\n",
    "cv2.imshow('Frame View',resized_img)\n",
    "cv2.waitKey(0)\n",
    "cv2.destroyAllWindows()"
   ]
  },
  {
   "cell_type": "code",
   "execution_count": null,
   "id": "e9cc654b-55c3-4089-bf2b-7976d1819a69",
   "metadata": {},
   "outputs": [],
   "source": []
  },
  {
   "cell_type": "markdown",
   "id": "3f10edf3-efc8-4d2c-9f9e-7ef3ac1ce5e3",
   "metadata": {},
   "source": [
    "# 4. Export Edges"
   ]
  },
  {
   "cell_type": "code",
   "execution_count": 39,
   "id": "05e787e7-34b7-4db5-aba5-861301289a2b",
   "metadata": {},
   "outputs": [
    {
     "data": {
      "text/plain": [
       "True"
      ]
     },
     "execution_count": 39,
     "metadata": {},
     "output_type": "execute_result"
    }
   ],
   "source": [
    "cv2.imwrite('edges.jpg',canny)"
   ]
  },
  {
   "cell_type": "code",
   "execution_count": null,
   "id": "acd79d1e-b70c-42c1-bb46-9200de95cf97",
   "metadata": {},
   "outputs": [],
   "source": []
  }
 ],
 "metadata": {
  "kernelspec": {
   "display_name": "Python 3 (ipykernel)",
   "language": "python",
   "name": "python3"
  },
  "language_info": {
   "codemirror_mode": {
    "name": "ipython",
    "version": 3
   },
   "file_extension": ".py",
   "mimetype": "text/x-python",
   "name": "python",
   "nbconvert_exporter": "python",
   "pygments_lexer": "ipython3",
   "version": "3.12.4"
  }
 },
 "nbformat": 4,
 "nbformat_minor": 5
}
